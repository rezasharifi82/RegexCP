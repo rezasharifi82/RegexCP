{
  "nbformat": 4,
  "nbformat_minor": 0,
  "metadata": {
    "colab": {
      "provenance": [],
      "include_colab_link": true
    },
    "kernelspec": {
      "name": "python3",
      "display_name": "Python 3"
    },
    "language_info": {
      "name": "python"
    }
  },
  "cells": [
    {
      "cell_type": "markdown",
      "metadata": {
        "id": "view-in-github",
        "colab_type": "text"
      },
      "source": [
        "<a href=\"https://colab.research.google.com/github/rezasharifi82/RegexCP/blob/main/FLA.ipynb\" target=\"_parent\"><img src=\"https://colab.research.google.com/assets/colab-badge.svg\" alt=\"Open In Colab\"/></a>"
      ]
    },
    {
      "cell_type": "markdown",
      "source": [
        "## Regex To List"
      ],
      "metadata": {
        "id": "h12Nv2fmi4SQ"
      }
    },
    {
      "cell_type": "code",
      "source": [
        "def get_list(ls):\n",
        "    return (fuck3(fuck2(fuck(ls))))\n",
        "\n",
        "def fuck(ls):\n",
        "    while(ls[0]==')'and ls[-1]=='('):\n",
        "        ls=ls[1:-1]\n",
        "    result = []\n",
        "    i = 0\n",
        "    par_num=0\n",
        "    while i < len(ls):\n",
        "        if ls[i] !='(':\n",
        "            result.append(ls[i])\n",
        "            i+=1\n",
        "            continue\n",
        "        if(ls[i]=='('):\n",
        "            i+=1\n",
        "            temp=[]\n",
        "            while not(ls[i]==')' and par_num==0):\n",
        "                if ls[i]=='(':par_num+=1\n",
        "                elif ls[i] == ')': par_num -= 1\n",
        "                temp.append(ls[i])\n",
        "                i+=1\n",
        "            i+=1\n",
        "            result.append(fuck(temp))\n",
        "    return result\n",
        "\n",
        "def fuck2(ls:list):\n",
        "    for it in range(len(ls)):\n",
        "        i=ls[it]\n",
        "        if isinstance(i,list):\n",
        "            if not(len(i)==2 and i[1] in ['+','*','?']):\n",
        "                ls[it]=fuck2(i)\n",
        "    while '*' in ls:\n",
        "        ind = ls.index('*')\n",
        "        res = []\n",
        "        if (ind > 1): res += ls[:ind - 1]\n",
        "        res.append([ls[ind - 1], ls[ind]])\n",
        "        if ind < len(ls) - 1:\n",
        "            res += ls[ind + 1:]\n",
        "        ls=res\n",
        "    return ls\n",
        "\n",
        "def fuck3(ls:list):\n",
        "    for it in range(len(ls)):\n",
        "        i=ls[it]\n",
        "        if isinstance(i,list):\n",
        "            ls[it]=fuck3(i)\n",
        "    while '+' in ls:\n",
        "        ind = ls.index('+')\n",
        "        res = []\n",
        "        res .append(ls[:ind])\n",
        "        res .append('or')\n",
        "        res .append( ls[ind + 1:])\n",
        "        ls = res\n",
        "    return ls\n"
      ],
      "metadata": {
        "id": "d2HXyBSBjERb"
      },
      "execution_count": 2,
      "outputs": []
    },
    {
      "cell_type": "markdown",
      "source": [
        "## List To NFA"
      ],
      "metadata": {
        "id": "kketOoaLkKt0"
      }
    },
    {
      "cell_type": "code",
      "source": [
        "a=get_list(ooo:=list(input()))\n",
        "print(a)\n",
        "print(ooo)"
      ],
      "metadata": {
        "colab": {
          "base_uri": "https://localhost:8080/"
        },
        "id": "yPWfp_dOkQXu",
        "outputId": "c1a9ef7a-2786-475d-b469-8ef177cd32da"
      },
      "execution_count": 21,
      "outputs": [
        {
          "output_type": "stream",
          "name": "stdout",
          "text": [
            "a*b\n",
            "[['a', '*'], 'b']\n",
            "['a', '*', 'b']\n"
          ]
        }
      ]
    },
    {
      "cell_type": "code",
      "source": [
        "from collections import deque\n",
        "\n",
        "\n",
        "class state:\n",
        "    num=1\n",
        "    def __init__(self):\n",
        "        self.name=\"Q\"+str(state.num)\n",
        "        state.num+=1\n",
        "        self.ls = []\n",
        "        self.visited=False\n",
        "\n",
        "\n",
        "# tuple :( weight , dest)\n",
        "# And\n",
        "\n",
        "landa = \"L\"\n",
        "class nfa:\n",
        "\n",
        "    def __init__(self,ls:list,Current:state) -> None:\n",
        "        self.start=Current\n",
        "        self.end=nfa_generator(ls,Current)\n",
        "    def __str__(self):\n",
        "        return str(print_grammar(self.start))\n",
        "    def nfa_generator(ls: list, Current: state):\n",
        "        if len(ls) == 3 and ls[1] == 'or':\n",
        "            Current=or_generator(ls,Current)\n",
        "        elif len(ls) == 2 and ls[1] == '*':\n",
        "            Current=star_generator(ls,Current)\n",
        "        else:\n",
        "            Current = and_generator(ls, Current)\n",
        "        return Current\n",
        "\n",
        "\n",
        "    def and_generator(trans: list, Current: state):\n",
        "        for i in trans:\n",
        "            if (type(i) is list and len(i) > 1):\n",
        "                Current = nfa_generator(i, Current)\n",
        "            else:\n",
        "                if (type(i) is list):\n",
        "                    i = i[0]\n",
        "                b = state()\n",
        "                Current.ls.append((i, b))\n",
        "                Current = b\n",
        "        return Current\n",
        "\n",
        "\n",
        "    def or_generator(trans: list, Current: state):\n",
        "        a = state()\n",
        "        b = state()\n",
        "        c = nfa_generator(trans[0], a)\n",
        "        d = nfa_generator(trans[2], b)\n",
        "        Current.ls.append((landa, a))\n",
        "        Current.ls.append((landa, b))\n",
        "        e = state()\n",
        "        c.ls.append((landa, e))\n",
        "        d.ls.append((landa, e))\n",
        "        return e\n",
        "\n",
        "\n",
        "    def star_generator(trans:list,Current:state):\n",
        "        b=nfa_generator(trans[0],Current)\n",
        "        b.ls.append((landa,Current))\n",
        "        Current.ls.append((landa,b))\n",
        "        return b\n",
        "\n",
        "    def print_grammar(Current:state):\n",
        "        visited=set()\n",
        "        v=grammar(Current,visited)\n",
        "        # print(\"sadasd\")\n",
        "        # print(v)\n",
        "        return v\n",
        "    def grammar(Current:state,visited):\n",
        "        ppp=[]\n",
        "        visited.add(Current)\n",
        "        for i in Current.ls:\n",
        "            ppp.append(Current.name,'--',i[0],'->',i[1].name)\n",
        "            if(i[1] not in visited):\n",
        "                grammar(i[1],visited)\n",
        "        return str(*ppp,end=\"\\n\")"
      ],
      "metadata": {
        "id": "0k_Pk3nBOiTN"
      },
      "execution_count": 75,
      "outputs": []
    },
    {
      "cell_type": "code",
      "source": [
        "sss=state()\n",
        "gamma=nfa(a,sss)"
      ],
      "metadata": {
        "id": "zkUZQoC3SJ4L"
      },
      "execution_count": 73,
      "outputs": []
    },
    {
      "cell_type": "code",
      "source": [
        "print(gamma)"
      ],
      "metadata": {
        "colab": {
          "base_uri": "https://localhost:8080/"
        },
        "id": "Az1VC8kwSbtR",
        "outputId": "c6acaefc-5604-488b-9381-eb18d6bbfb9f"
      },
      "execution_count": 74,
      "outputs": [
        {
          "output_type": "stream",
          "name": "stdout",
          "text": [
            "1 -- a -> 2\n",
            "2 -- L -> 1\n",
            "2 -- b -> 3\n",
            "1 -- L -> 2\n",
            "None\n"
          ]
        }
      ]
    }
  ]
}